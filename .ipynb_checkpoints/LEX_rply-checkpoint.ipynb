{
 "cells": [
  {
   "cell_type": "code",
   "execution_count": 1,
   "metadata": {},
   "outputs": [],
   "source": [
    "from rply import LexerGenerator"
   ]
  },
  {
   "cell_type": "code",
   "execution_count": 22,
   "metadata": {},
   "outputs": [],
   "source": [
    "lg = LexerGenerator()\n",
    "\n",
    "word = r'(\\w)+'\n",
    "lg.add('STRING', r'(\\w|[ ])+')\n",
    "lg.add('OPENING_TAG', r'<%s( %s=%s)*>'%(word, word, word))\n",
    "lg.add('CLOSING_TAG', r'</%s>'%(word))\n",
    "lg.add('SINGLE_TAG', r'<%s/>'%(word))\n",
    "# lg.add('NEW_LINE', r'\\n')\n",
    "# lg.add('TAB', r'\\t')\n",
    "# lg.add('WHITESPACE', r'[ ]')\n",
    "lg.ignore('\\s+')"
   ]
  },
  {
   "cell_type": "code",
   "execution_count": 25,
   "metadata": {},
   "outputs": [
    {
     "name": "stdout",
     "output_type": "stream",
     "text": [
      "<html name=name>\n",
      "<head>\n",
      "<title>\n",
      "Het12Patel\n",
      "DEMO leX1\n",
      "</title>\n",
      "</head>\n",
      "<body>\n",
      "<h1>\n",
      "This is my heading\n",
      "</h1>\n",
      "</body>\n",
      "</html>\n"
     ]
    }
   ],
   "source": [
    "l = lg.build()\n",
    "html='''<html name=name>\n",
    "<head>\n",
    "    <title>Het12Patel DEMO leX1</title>\n",
    "</head>\n",
    "<body>\n",
    "    <h1>This is my heading</h1>\n",
    "</body>\n",
    "</html>\n",
    "'''\n",
    "for token in l.lex(html):\n",
    "    print(token.value)"
   ]
  },
  {
   "cell_type": "code",
   "execution_count": null,
   "metadata": {},
   "outputs": [],
   "source": []
  }
 ],
 "metadata": {
  "anaconda-cloud": {},
  "kernelspec": {
   "display_name": "Python [default]",
   "language": "python",
   "name": "python3"
  },
  "language_info": {
   "codemirror_mode": {
    "name": "ipython",
    "version": 3
   },
   "file_extension": ".py",
   "mimetype": "text/x-python",
   "name": "python",
   "nbconvert_exporter": "python",
   "pygments_lexer": "ipython3",
   "version": "3.5.2"
  }
 },
 "nbformat": 4,
 "nbformat_minor": 2
}
